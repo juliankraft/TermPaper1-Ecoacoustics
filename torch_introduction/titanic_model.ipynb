{
 "cells": [
  {
   "cell_type": "code",
   "execution_count": 1,
   "metadata": {},
   "outputs": [],
   "source": [
    "# loading libraries\n",
    "import torch\n",
    "import pandas as pd\n",
    "import numpy as np\n",
    "import matplotlib.pyplot as plt\n",
    "from sklearn.metrics import confusion_matrix"
   ]
  },
  {
   "cell_type": "code",
   "execution_count": 2,
   "metadata": {},
   "outputs": [],
   "source": [
    "# loading data\n",
    "titanic_raw = pd.read_csv('titanic.csv')"
   ]
  },
  {
   "cell_type": "code",
   "execution_count": 3,
   "metadata": {},
   "outputs": [
    {
     "data": {
      "text/html": [
       "<div>\n",
       "<style scoped>\n",
       "    .dataframe tbody tr th:only-of-type {\n",
       "        vertical-align: middle;\n",
       "    }\n",
       "\n",
       "    .dataframe tbody tr th {\n",
       "        vertical-align: top;\n",
       "    }\n",
       "\n",
       "    .dataframe thead th {\n",
       "        text-align: right;\n",
       "    }\n",
       "</style>\n",
       "<table border=\"1\" class=\"dataframe\">\n",
       "  <thead>\n",
       "    <tr style=\"text-align: right;\">\n",
       "      <th></th>\n",
       "      <th>Survived</th>\n",
       "      <th>pclass</th>\n",
       "      <th>Sex</th>\n",
       "      <th>SibSp</th>\n",
       "      <th>Parch</th>\n",
       "      <th>Age</th>\n",
       "    </tr>\n",
       "  </thead>\n",
       "  <tbody>\n",
       "    <tr>\n",
       "      <th>0</th>\n",
       "      <td>0</td>\n",
       "      <td>3</td>\n",
       "      <td>1</td>\n",
       "      <td>1</td>\n",
       "      <td>0</td>\n",
       "      <td>22.000000</td>\n",
       "    </tr>\n",
       "    <tr>\n",
       "      <th>1</th>\n",
       "      <td>1</td>\n",
       "      <td>1</td>\n",
       "      <td>0</td>\n",
       "      <td>1</td>\n",
       "      <td>0</td>\n",
       "      <td>38.000000</td>\n",
       "    </tr>\n",
       "    <tr>\n",
       "      <th>2</th>\n",
       "      <td>1</td>\n",
       "      <td>3</td>\n",
       "      <td>0</td>\n",
       "      <td>0</td>\n",
       "      <td>0</td>\n",
       "      <td>26.000000</td>\n",
       "    </tr>\n",
       "    <tr>\n",
       "      <th>3</th>\n",
       "      <td>1</td>\n",
       "      <td>1</td>\n",
       "      <td>0</td>\n",
       "      <td>1</td>\n",
       "      <td>0</td>\n",
       "      <td>35.000000</td>\n",
       "    </tr>\n",
       "    <tr>\n",
       "      <th>4</th>\n",
       "      <td>0</td>\n",
       "      <td>3</td>\n",
       "      <td>1</td>\n",
       "      <td>0</td>\n",
       "      <td>0</td>\n",
       "      <td>35.000000</td>\n",
       "    </tr>\n",
       "    <tr>\n",
       "      <th>...</th>\n",
       "      <td>...</td>\n",
       "      <td>...</td>\n",
       "      <td>...</td>\n",
       "      <td>...</td>\n",
       "      <td>...</td>\n",
       "      <td>...</td>\n",
       "    </tr>\n",
       "    <tr>\n",
       "      <th>886</th>\n",
       "      <td>0</td>\n",
       "      <td>2</td>\n",
       "      <td>1</td>\n",
       "      <td>0</td>\n",
       "      <td>0</td>\n",
       "      <td>27.000000</td>\n",
       "    </tr>\n",
       "    <tr>\n",
       "      <th>887</th>\n",
       "      <td>1</td>\n",
       "      <td>1</td>\n",
       "      <td>0</td>\n",
       "      <td>0</td>\n",
       "      <td>0</td>\n",
       "      <td>19.000000</td>\n",
       "    </tr>\n",
       "    <tr>\n",
       "      <th>888</th>\n",
       "      <td>0</td>\n",
       "      <td>3</td>\n",
       "      <td>0</td>\n",
       "      <td>1</td>\n",
       "      <td>2</td>\n",
       "      <td>29.699118</td>\n",
       "    </tr>\n",
       "    <tr>\n",
       "      <th>889</th>\n",
       "      <td>1</td>\n",
       "      <td>1</td>\n",
       "      <td>1</td>\n",
       "      <td>0</td>\n",
       "      <td>0</td>\n",
       "      <td>26.000000</td>\n",
       "    </tr>\n",
       "    <tr>\n",
       "      <th>890</th>\n",
       "      <td>0</td>\n",
       "      <td>3</td>\n",
       "      <td>1</td>\n",
       "      <td>0</td>\n",
       "      <td>0</td>\n",
       "      <td>32.000000</td>\n",
       "    </tr>\n",
       "  </tbody>\n",
       "</table>\n",
       "<p>891 rows × 6 columns</p>\n",
       "</div>"
      ],
      "text/plain": [
       "     Survived  pclass  Sex  SibSp  Parch        Age\n",
       "0           0       3    1      1      0  22.000000\n",
       "1           1       1    0      1      0  38.000000\n",
       "2           1       3    0      0      0  26.000000\n",
       "3           1       1    0      1      0  35.000000\n",
       "4           0       3    1      0      0  35.000000\n",
       "..        ...     ...  ...    ...    ...        ...\n",
       "886         0       2    1      0      0  27.000000\n",
       "887         1       1    0      0      0  19.000000\n",
       "888         0       3    0      1      2  29.699118\n",
       "889         1       1    1      0      0  26.000000\n",
       "890         0       3    1      0      0  32.000000\n",
       "\n",
       "[891 rows x 6 columns]"
      ]
     },
     "execution_count": 3,
     "metadata": {},
     "output_type": "execute_result"
    }
   ],
   "source": [
    "#Processing data\n",
    "\n",
    "titanic_processed = pd.DataFrame()\n",
    "\n",
    "titanic_processed['Survived'] = titanic_raw['Survived']\n",
    "titanic_processed['pclass'] = titanic_raw['Pclass']\n",
    "titanic_processed['Sex'] = (titanic_raw['Sex'] == \"male\").astype(int)\n",
    "titanic_processed['SibSp'] = titanic_raw['SibSp']\n",
    "titanic_processed['Parch'] = titanic_raw['Parch']\n",
    "titanic_processed['Age'] = titanic_raw['Age'].fillna(titanic_raw['Age'].mean())\n",
    "\n",
    "titanic_processed"
   ]
  },
  {
   "cell_type": "code",
   "execution_count": 4,
   "metadata": {},
   "outputs": [
    {
     "data": {
      "text/plain": [
       "tensor([[ 2.,  0.,  0.,  0., 38.],\n",
       "        [ 3.,  1.,  0.,  0., 16.],\n",
       "        [ 3.,  1.,  0.,  0., 21.],\n",
       "        ...,\n",
       "        [ 3.,  1.,  0.,  0., 32.],\n",
       "        [ 3.,  1.,  0.,  0., 33.],\n",
       "        [ 3.,  0.,  0.,  0., 27.]])"
      ]
     },
     "execution_count": 4,
     "metadata": {},
     "output_type": "execute_result"
    }
   ],
   "source": [
    "# randomizing the data and splitting it into training and testing\n",
    "\n",
    "# torch.manual_seed(42)\n",
    "\n",
    "rand_idx = torch.randperm(len(titanic_processed))\n",
    "\n",
    "train_idx = rand_idx[:int(0.8*len(titanic_processed))]\n",
    "val_idx = rand_idx[int(0.8*len(titanic_processed)):]\n",
    "\n",
    "y_train = torch.from_numpy(titanic_processed.iloc[train_idx]['Survived'].values.astype(np.float32))\n",
    "y_val = torch.from_numpy(titanic_processed.iloc[val_idx]['Survived'].values.astype(np.float32))\n",
    "\n",
    "x_train = torch.from_numpy(titanic_processed.iloc[train_idx].drop('Survived', axis=1).values.astype(np.float32))\n",
    "x_val = torch.from_numpy(titanic_processed.iloc[val_idx].drop('Survived', axis=1).values.astype(np.float32))\n",
    "\n",
    "x_train"
   ]
  },
  {
   "cell_type": "code",
   "execution_count": 5,
   "metadata": {},
   "outputs": [],
   "source": [
    "# creating the model\n",
    "\n",
    "class Layer(torch.nn.Module):\n",
    "    \"\"\"A simple feedforward layer with an activation function.\"\"\"\n",
    "    def __init__(self, n_feature, n_hidden, activation_function=None):\n",
    "        super().__init__()\n",
    "\n",
    "        self.linear = torch.nn.Linear(n_feature, n_hidden)\n",
    "\n",
    "        if activation_function is None:\n",
    "            self.activation_function = torch.nn.Sigmoid()\n",
    "        else:\n",
    "            self.activation_function = activation_function\n",
    "\n",
    "    def forward(self, x):\n",
    "        out = self.linear(x)\n",
    "        out = self.activation_function(out)\n",
    "        return out\n",
    "\n",
    "\n",
    "class FeedForward(torch.nn.Module):\n",
    "    \"\"\"A simple feedforward neural network with two hidden layers.\"\"\"\n",
    "    def __init__(self, n_feature, n_hidden, n_output, activation_function, activation_function_last):\n",
    "        super().__init__()\n",
    "\n",
    "        self.layer0 = Layer(n_feature=n_feature, n_hidden=n_hidden, activation_function=activation_function)\n",
    "        self.layer1 = Layer(n_feature=n_hidden, n_hidden=n_hidden, activation_function=activation_function)\n",
    "        self.layer2 = Layer(n_feature=n_hidden, n_hidden=n_output, activation_function=activation_function_last)\n",
    "\n",
    "    def forward(self, x):\n",
    "        # (b, f) -> (b, h)\n",
    "        out = self.layer0(x)\n",
    "        # (b, h) -> (b, h)\n",
    "        out = self.layer1(out)\n",
    "        # (b, h) -> (b, o)\n",
    "        out = self.layer2(out)\n",
    "        return out"
   ]
  },
  {
   "cell_type": "code",
   "execution_count": 6,
   "metadata": {},
   "outputs": [
    {
     "name": "stdout",
     "output_type": "stream",
     "text": [
      "0\n",
      "1\n",
      "2\n",
      "3\n",
      "4\n",
      "5\n",
      "6\n",
      "7\n",
      "8\n",
      "9\n",
      "10\n",
      "11\n",
      "12\n"
     ]
    },
    {
     "data": {
      "text/plain": [
       "<matplotlib.legend.Legend at 0x21b2fa7d8d0>"
      ]
     },
     "execution_count": 6,
     "metadata": {},
     "output_type": "execute_result"
    },
    {
     "data": {
      "image/png": "[encoded data removed]",
      "text/plain": [
       "<Figure size 640x480 with 1 Axes>"
      ]
     },
     "metadata": {},
     "output_type": "display_data"
    }
   ],
   "source": [
    "# Create a loss function\n",
    "loss_fn = torch.nn.BCELoss()\n",
    "\n",
    "# Create a feedforward neural network\n",
    "feedforward = FeedForward(n_feature=5, n_hidden=64, n_output=1, activation_function=torch.nn.ReLU(), activation_function_last=torch.nn.Sigmoid()).cuda()\n",
    "\n",
    "# Create an optimizer\n",
    "optimizer = torch.optim.AdamW(feedforward.parameters(), lr=0.001, weight_decay=0.0)\n",
    "\n",
    "\n",
    "batch_size = 8\n",
    "\n",
    "train_losses = []\n",
    "val_losses = []\n",
    "\n",
    "best_loss = float('inf')\n",
    "stopping_counter = 0\n",
    "patience = 5\n",
    "num_epochs = 1000\n",
    "\n",
    "for epoch in range(num_epochs):\n",
    "    print(epoch)\n",
    "    random_index = torch.randperm(len(x_train))\n",
    "    x_train = x_train[random_index]\n",
    "    y_train = y_train[random_index]\n",
    "\n",
    "    train_epoch_losses = []\n",
    "    val_epoch_losses = []\n",
    "\n",
    "    # Training loop.\n",
    "    feedforward.train()  # Set the model to training mode.\n",
    "    for start_index in range(0, len(x_train), batch_size):\n",
    "        end_index = start_index + batch_size\n",
    "        x_batch = x_train[start_index:end_index].cuda()\n",
    "        y_batch = y_train[start_index:end_index].cuda()\n",
    "\n",
    "        # Reset gradients.\n",
    "        optimizer.zero_grad()\n",
    "\n",
    "        # Forward pass.\n",
    "        y_pred = feedforward(x_batch)\n",
    "\n",
    "        # Compute loss.\n",
    "        loss = loss_fn(y_pred.squeeze(), y_batch)\n",
    "\n",
    "        # Backward pass.\n",
    "        loss.backward()\n",
    "\n",
    "        # Update weights.\n",
    "        optimizer.step()\n",
    "\n",
    "        train_epoch_losses.append(loss.item())\n",
    "\n",
    "    # Validation loop.\n",
    "    feedforward.eval()  # Set the model to evaluation mode.\n",
    "    with torch.no_grad():\n",
    "        for start_index in range(0, len(x_val), batch_size):\n",
    "            end_index = start_index + batch_size\n",
    "            x_batch = x_val[start_index:end_index].cuda()\n",
    "            y_batch = y_val[start_index:end_index].cuda()\n",
    "            y_val_pred = feedforward(x_batch)\n",
    "            val_loss = loss_fn(y_val_pred.squeeze(), y_batch)\n",
    "\n",
    "            val_epoch_losses.append(val_loss.item())\n",
    "\n",
    "    train_losses.append(sum(train_epoch_losses) / len(train_epoch_losses))\n",
    "    val_losses.append(sum(val_epoch_losses) / len(val_epoch_losses))\n",
    "\n",
    "    if val_losses[-1] < best_loss:\n",
    "        best_loss = val_losses[-1]\n",
    "        torch.save(feedforward, './best_model.ckpt')\n",
    "        stopping_counter = 0\n",
    "    else:\n",
    "        stopping_counter += 1\n",
    "\n",
    "    if stopping_counter > patience:\n",
    "        break\n",
    "\n",
    "del x_batch, y_batch\n",
    "\n",
    "plt.plot(train_losses, label='train loss')\n",
    "plt.plot(val_losses, label='val loss')\n",
    "plt.legend()"
   ]
  },
  {
   "cell_type": "code",
   "execution_count": 7,
   "metadata": {},
   "outputs": [
    {
     "data": {
      "text/plain": [
       "Text(0, 0.5, 'True values')"
      ]
     },
     "execution_count": 7,
     "metadata": {},
     "output_type": "execute_result"
    },
    {
     "data": {
      "image/png": "[encoded data removed]",
      "text/plain": [
       "<Figure size 640x480 with 1 Axes>"
      ]
     },
     "metadata": {},
     "output_type": "display_data"
    }
   ],
   "source": [
    "feedforward.load_state_dict(torch.load('./best_model.ckpt').state_dict())\n",
    "\n",
    "feedforward.eval()  # Set the model to evaluation mode.\n",
    "\n",
    "# Predict and detach the tensor from the computational graph and convert it to a NumPy array.\n",
    "y_hat = feedforward(x_val.cuda()).cpu().detach().numpy()\n",
    "y_hat_class = (y_hat > 0.5).astype(int).squeeze()\n",
    "y_val_class = y_val.numpy().astype(int)\n",
    "\n",
    "plt.plot(y_hat, y_val, 'o', markersize=0.5, color='black')\n",
    "plt.xlabel('Predicted values')\n",
    "plt.ylabel('True values')"
   ]
  },
  {
   "cell_type": "code",
   "execution_count": 8,
   "metadata": {},
   "outputs": [
    {
     "data": {
      "text/plain": [
       "array([[0.82882883, 0.17117117],\n",
       "       [0.33823529, 0.66176471]])"
      ]
     },
     "execution_count": 8,
     "metadata": {},
     "output_type": "execute_result"
    }
   ],
   "source": [
    "# true negative | false positive\n",
    "# false negative | true positive\n",
    "confusion_matrix(y_val_class, y_hat_class, normalize='true')"
   ]
  },
  {
   "cell_type": "code",
   "execution_count": null,
   "metadata": {},
   "outputs": [],
   "source": []
  }
 ],
 "metadata": {
  "kernelspec": {
   "display_name": "torch_cuda",
   "language": "python",
   "name": "python3"
  },
  "language_info": {
   "codemirror_mode": {
    "name": "ipython",
    "version": 3
   },
   "file_extension": ".py",
   "mimetype": "text/x-python",
   "name": "python",
   "nbconvert_exporter": "python",
   "pygments_lexer": "ipython3",
   "version": "3.11.8"
  }
 },
 "nbformat": 4,
 "nbformat_minor": 2
}
