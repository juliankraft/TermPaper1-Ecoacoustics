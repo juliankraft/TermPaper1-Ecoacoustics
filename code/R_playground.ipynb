{
 "cells": [
  {
   "cell_type": "code",
   "execution_count": 1,
   "metadata": {
    "vscode": {
     "languageId": "r"
    }
   },
   "outputs": [
    {
     "name": "stderr",
     "output_type": "stream",
     "text": [
      "── \u001b[1mAttaching core tidyverse packages\u001b[22m ──────────────────────── tidyverse 2.0.0 ──\n",
      "\u001b[32m✔\u001b[39m \u001b[34mdplyr    \u001b[39m 1.1.4     \u001b[32m✔\u001b[39m \u001b[34mreadr    \u001b[39m 2.1.4\n",
      "\u001b[32m✔\u001b[39m \u001b[34mforcats  \u001b[39m 1.0.0     \u001b[32m✔\u001b[39m \u001b[34mstringr  \u001b[39m 1.5.1\n",
      "\u001b[32m✔\u001b[39m \u001b[34mggplot2  \u001b[39m 3.4.4     \u001b[32m✔\u001b[39m \u001b[34mtibble   \u001b[39m 3.2.1\n",
      "\u001b[32m✔\u001b[39m \u001b[34mlubridate\u001b[39m 1.9.3     \u001b[32m✔\u001b[39m \u001b[34mtidyr    \u001b[39m 1.3.0\n",
      "\u001b[32m✔\u001b[39m \u001b[34mpurrr    \u001b[39m 1.0.2     \n",
      "── \u001b[1mConflicts\u001b[22m ────────────────────────────────────────── tidyverse_conflicts() ──\n",
      "\u001b[31m✖\u001b[39m \u001b[34mdplyr\u001b[39m::\u001b[32mfilter()\u001b[39m masks \u001b[34mstats\u001b[39m::filter()\n",
      "\u001b[31m✖\u001b[39m \u001b[34mdplyr\u001b[39m::\u001b[32mlag()\u001b[39m    masks \u001b[34mstats\u001b[39m::lag()\n",
      "\u001b[36mℹ\u001b[39m Use the conflicted package (\u001b[3m\u001b[34m<http://conflicted.r-lib.org/>\u001b[39m\u001b[23m) to force all conflicts to become errors\n"
     ]
    }
   ],
   "source": [
    "library(tidyverse)"
   ]
  },
  {
   "cell_type": "code",
   "execution_count": 5,
   "metadata": {
    "vscode": {
     "languageId": "r"
    }
   },
   "outputs": [
    {
     "data": {
      "text/html": [
       "<table class=\"dataframe\">\n",
       "<caption>A tibble: 6 × 8</caption>\n",
       "<thead>\n",
       "\t<tr><th scope=col>epoch</th><th scope=col>step</th><th scope=col>train_acc_epoch</th><th scope=col>train_acc_step</th><th scope=col>train_loss_epoch</th><th scope=col>train_loss_step</th><th scope=col>val_acc</th><th scope=col>val_loss</th></tr>\n",
       "\t<tr><th scope=col>&lt;int&gt;</th><th scope=col>&lt;int&gt;</th><th scope=col>&lt;dbl&gt;</th><th scope=col>&lt;dbl&gt;</th><th scope=col>&lt;dbl&gt;</th><th scope=col>&lt;dbl&gt;</th><th scope=col>&lt;dbl&gt;</th><th scope=col>&lt;dbl&gt;</th></tr>\n",
       "</thead>\n",
       "<tbody>\n",
       "\t<tr><td>0</td><td>0</td><td>NA</td><td>0.0</td><td>NA</td><td>0.5539695</td><td>NA</td><td>NA</td></tr>\n",
       "\t<tr><td>0</td><td>1</td><td>NA</td><td>0.0</td><td>NA</td><td>0.6415346</td><td>NA</td><td>NA</td></tr>\n",
       "\t<tr><td>0</td><td>2</td><td>NA</td><td>0.1</td><td>NA</td><td>0.3538269</td><td>NA</td><td>NA</td></tr>\n",
       "\t<tr><td>0</td><td>3</td><td>NA</td><td>0.1</td><td>NA</td><td>0.6174377</td><td>NA</td><td>NA</td></tr>\n",
       "\t<tr><td>0</td><td>4</td><td>NA</td><td>0.1</td><td>NA</td><td>0.4206117</td><td>NA</td><td>NA</td></tr>\n",
       "\t<tr><td>0</td><td>5</td><td>NA</td><td>0.0</td><td>NA</td><td>0.5813615</td><td>NA</td><td>NA</td></tr>\n",
       "</tbody>\n",
       "</table>\n"
      ],
      "text/latex": [
       "A tibble: 6 × 8\n",
       "\\begin{tabular}{llllllll}\n",
       " epoch & step & train\\_acc\\_epoch & train\\_acc\\_step & train\\_loss\\_epoch & train\\_loss\\_step & val\\_acc & val\\_loss\\\\\n",
       " <int> & <int> & <dbl> & <dbl> & <dbl> & <dbl> & <dbl> & <dbl>\\\\\n",
       "\\hline\n",
       "\t 0 & 0 & NA & 0.0 & NA & 0.5539695 & NA & NA\\\\\n",
       "\t 0 & 1 & NA & 0.0 & NA & 0.6415346 & NA & NA\\\\\n",
       "\t 0 & 2 & NA & 0.1 & NA & 0.3538269 & NA & NA\\\\\n",
       "\t 0 & 3 & NA & 0.1 & NA & 0.6174377 & NA & NA\\\\\n",
       "\t 0 & 4 & NA & 0.1 & NA & 0.4206117 & NA & NA\\\\\n",
       "\t 0 & 5 & NA & 0.0 & NA & 0.5813615 & NA & NA\\\\\n",
       "\\end{tabular}\n"
      ],
      "text/markdown": [
       "\n",
       "A tibble: 6 × 8\n",
       "\n",
       "| epoch &lt;int&gt; | step &lt;int&gt; | train_acc_epoch &lt;dbl&gt; | train_acc_step &lt;dbl&gt; | train_loss_epoch &lt;dbl&gt; | train_loss_step &lt;dbl&gt; | val_acc &lt;dbl&gt; | val_loss &lt;dbl&gt; |\n",
       "|---|---|---|---|---|---|---|---|\n",
       "| 0 | 0 | NA | 0.0 | NA | 0.5539695 | NA | NA |\n",
       "| 0 | 1 | NA | 0.0 | NA | 0.6415346 | NA | NA |\n",
       "| 0 | 2 | NA | 0.1 | NA | 0.3538269 | NA | NA |\n",
       "| 0 | 3 | NA | 0.1 | NA | 0.6174377 | NA | NA |\n",
       "| 0 | 4 | NA | 0.1 | NA | 0.4206117 | NA | NA |\n",
       "| 0 | 5 | NA | 0.0 | NA | 0.5813615 | NA | NA |\n",
       "\n"
      ],
      "text/plain": [
       "  epoch step train_acc_epoch train_acc_step train_loss_epoch train_loss_step\n",
       "1 0     0    NA              0.0            NA               0.5539695      \n",
       "2 0     1    NA              0.0            NA               0.6415346      \n",
       "3 0     2    NA              0.1            NA               0.3538269      \n",
       "4 0     3    NA              0.1            NA               0.6174377      \n",
       "5 0     4    NA              0.1            NA               0.4206117      \n",
       "6 0     5    NA              0.0            NA               0.5813615      \n",
       "  val_acc val_loss\n",
       "1 NA      NA      \n",
       "2 NA      NA      \n",
       "3 NA      NA      \n",
       "4 NA      NA      \n",
       "5 NA      NA      \n",
       "6 NA      NA      "
      ]
     },
     "metadata": {},
     "output_type": "display_data"
    }
   ],
   "source": [
    "path <- \"../logs/default/spec_nblock4_lr0.0001_ks5/metrics.csv\"\n",
    "\n",
    "read.csv(path) %>% as_tibble() -> metrics\n",
    "\n",
    "metrics %>% head()"
   ]
  },
  {
   "cell_type": "code",
   "execution_count": 7,
   "metadata": {
    "vscode": {
     "languageId": "r"
    }
   },
   "outputs": [
    {
     "data": {
      "text/html": [
       "<table class=\"dataframe\">\n",
       "<caption>A tibble: 1 × 8</caption>\n",
       "<thead>\n",
       "\t<tr><th scope=col>epoch</th><th scope=col>step</th><th scope=col>train_acc_epoch</th><th scope=col>train_acc_step</th><th scope=col>train_loss_epoch</th><th scope=col>train_loss_step</th><th scope=col>val_acc</th><th scope=col>val_loss</th></tr>\n",
       "\t<tr><th scope=col>&lt;int&gt;</th><th scope=col>&lt;int&gt;</th><th scope=col>&lt;dbl&gt;</th><th scope=col>&lt;dbl&gt;</th><th scope=col>&lt;dbl&gt;</th><th scope=col>&lt;dbl&gt;</th><th scope=col>&lt;dbl&gt;</th><th scope=col>&lt;dbl&gt;</th></tr>\n",
       "</thead>\n",
       "<tbody>\n",
       "\t<tr><td>572</td><td>12032</td><td>NA</td><td>NA</td><td>NA</td><td>NA</td><td>0.6862745</td><td>0.5588263</td></tr>\n",
       "</tbody>\n",
       "</table>\n"
      ],
      "text/latex": [
       "A tibble: 1 × 8\n",
       "\\begin{tabular}{llllllll}\n",
       " epoch & step & train\\_acc\\_epoch & train\\_acc\\_step & train\\_loss\\_epoch & train\\_loss\\_step & val\\_acc & val\\_loss\\\\\n",
       " <int> & <int> & <dbl> & <dbl> & <dbl> & <dbl> & <dbl> & <dbl>\\\\\n",
       "\\hline\n",
       "\t 572 & 12032 & NA & NA & NA & NA & 0.6862745 & 0.5588263\\\\\n",
       "\\end{tabular}\n"
      ],
      "text/markdown": [
       "\n",
       "A tibble: 1 × 8\n",
       "\n",
       "| epoch &lt;int&gt; | step &lt;int&gt; | train_acc_epoch &lt;dbl&gt; | train_acc_step &lt;dbl&gt; | train_loss_epoch &lt;dbl&gt; | train_loss_step &lt;dbl&gt; | val_acc &lt;dbl&gt; | val_loss &lt;dbl&gt; |\n",
       "|---|---|---|---|---|---|---|---|\n",
       "| 572 | 12032 | NA | NA | NA | NA | 0.6862745 | 0.5588263 |\n",
       "\n"
      ],
      "text/plain": [
       "  epoch step  train_acc_epoch train_acc_step train_loss_epoch train_loss_step\n",
       "1 572   12032 NA              NA             NA               NA             \n",
       "  val_acc   val_loss \n",
       "1 0.6862745 0.5588263"
      ]
     },
     "metadata": {},
     "output_type": "display_data"
    }
   ],
   "source": [
    "metrics %>% filter(!is.na(val_loss)) %>%\n",
    "    filter(val_loss == min(val_loss))"
   ]
  }
 ],
 "metadata": {
  "kernelspec": {
   "display_name": "R",
   "language": "R",
   "name": "ir"
  },
  "language_info": {
   "codemirror_mode": "r",
   "file_extension": ".r",
   "mimetype": "text/x-r-source",
   "name": "R",
   "pygments_lexer": "r",
   "version": "4.3.2"
  }
 },
 "nbformat": 4,
 "nbformat_minor": 2
}
