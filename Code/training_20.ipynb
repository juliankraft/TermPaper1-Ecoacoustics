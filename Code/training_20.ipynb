{
 "cells": [
  {
   "cell_type": "code",
   "execution_count": 8,
   "metadata": {},
   "outputs": [],
   "source": [
    "import torch\n",
    "from lightning import Trainer\n",
    "from lightning.pytorch.callbacks import EarlyStopping, ModelCheckpoint\n",
    "from lightning.pytorch.loggers import TensorBoardLogger, CSVLogger\n",
    "from dataloader import InsectDatamodule\n",
    "from model_20 import ResNet\n",
    "import os\n",
    "import numpy as np\n",
    "import pandas as pd\n",
    "import yaml\n",
    "\n",
    "from utils import PredictionWriter"
   ]
  },
  {
   "cell_type": "code",
   "execution_count": 9,
   "metadata": {},
   "outputs": [
    {
     "name": "stderr",
     "output_type": "stream",
     "text": [
      "GPU available: True (mps), used: True\n",
      "TPU available: False, using: 0 TPU cores\n",
      "IPU available: False, using: 0 IPUs\n",
      "HPU available: False, using: 0 HPUs\n"
     ]
    }
   ],
   "source": [
    "# initialize the datamodule and the model\n",
    "\n",
    "train_new_model = False\n",
    "\n",
    "# log directory\n",
    "save_dir='./lightning_logs/'\n",
    "sub_dir='all_data'\n",
    "version='version06'\n",
    "\n",
    "# select Dataset\n",
    "# csv_paths = ['../data/Cicadidae.csv', '../data/Orthoptera.csv']\n",
    "csv_paths = ['../data/Orthoptera.csv']\n",
    "\n",
    "# parameters\n",
    "\n",
    "batch_size = 10\n",
    "num_workers = 0\n",
    "\n",
    "n_fft = 1024\n",
    "n_mels = None\n",
    "top_db = None\n",
    "\n",
    "patience = 30\n",
    "\n",
    "in_channels=1\n",
    "base_channels=8\n",
    "kernel_size=3\n",
    "n_max_pool=3\n",
    "n_res_blocks=4\n",
    "learning_rate=0.001\n",
    "\n",
    "log_every_n_steps=20\n",
    "\n",
    "# create log directory\n",
    "log_dir = f'{save_dir}/{sub_dir}/{version}'\n",
    "\n",
    "if train_new_model:\n",
    "    if os.path.exists(log_dir):\n",
    "        raise FileExistsError(f'{log_dir} already exists. Please change the version.')\n",
    "    else:\n",
    "        os.makedirs(log_dir)\n",
    "\n",
    "    parameters = {\n",
    "        'csv_paths': csv_paths,\n",
    "        'batch_size': batch_size,\n",
    "        'num_workers': num_workers,\n",
    "        'n_fft': n_fft,\n",
    "        'n_mels': n_mels,\n",
    "        'top_db': top_db,\n",
    "        'patience': patience,\n",
    "        'in_channels': in_channels,\n",
    "        'base_channels': base_channels,\n",
    "        'kernel_size': kernel_size,\n",
    "        'n_max_pool': n_max_pool,\n",
    "        'n_res_blocks': n_res_blocks,\n",
    "        'learning_rate': learning_rate,\n",
    "        'log_every_n_steps': log_every_n_steps\n",
    "    }\n",
    "\n",
    "    # Write parameters to a YAML file\n",
    "    with open(f'{log_dir}/all_parameters.yaml', 'w') as file:\n",
    "        yaml.dump(parameters, file)\n",
    "\n",
    "datamodule = InsectDatamodule(\n",
    "    csv_paths = csv_paths,\n",
    "    batch_size = batch_size,\n",
    "    num_workers = num_workers,\n",
    "    n_fft = n_fft,\n",
    "    n_mels = n_mels,\n",
    "    top_db = top_db)\n",
    "\n",
    "resnet = ResNet(\n",
    "    in_channels=in_channels,\n",
    "    base_channels=base_channels,\n",
    "    kernel_size=kernel_size,\n",
    "    n_max_pool=n_max_pool,\n",
    "    n_res_blocks=n_res_blocks,\n",
    "    num_classes=datamodule.num_classes,\n",
    "    learning_rate=learning_rate,\n",
    "    class_weights=datamodule.class_weights)\n",
    "\n",
    "tb_logger = TensorBoardLogger(\n",
    "    save_dir=save_dir,\n",
    "    name=sub_dir,\n",
    "    version=version,  # You can customize this\n",
    ")\n",
    "\n",
    "csv_logger = CSVLogger(\n",
    "    save_dir=save_dir,\n",
    "    name=sub_dir,\n",
    "    version=version,  # You can customize this\n",
    ")\n",
    "\n",
    "trainer = Trainer(\n",
    "    logger=[tb_logger, csv_logger],\n",
    "    log_every_n_steps=log_every_n_steps,\n",
    "    callbacks=[\n",
    "        EarlyStopping(monitor='val_loss', patience=patience),\n",
    "        ModelCheckpoint(monitor='val_loss', save_top_k=1, mode='min', filename='best'),\n",
    "        PredictionWriter(),\n",
    "    ]\n",
    ")"
   ]
  },
  {
   "cell_type": "code",
   "execution_count": 10,
   "metadata": {},
   "outputs": [
    {
     "name": "stderr",
     "output_type": "stream",
     "text": [
      "/Users/kraftb/miniforge3/envs/torch_insect/lib/python3.11/site-packages/lightning/pytorch/loops/utilities.py:73: `max_epochs` was not set. Setting it to 1000 epochs. To train without an epoch limit, set `max_epochs=-1`.\n",
      "/Users/kraftb/miniforge3/envs/torch_insect/lib/python3.11/site-packages/lightning/fabric/loggers/csv_logs.py:268: Experiment logs directory ./lightning_logs/all_data/version06 exists and is not empty. Previous log files in this directory will be deleted when the new ones are saved!\n",
      "/Users/kraftb/miniforge3/envs/torch_insect/lib/python3.11/site-packages/lightning/pytorch/callbacks/model_checkpoint.py:653: Checkpoint directory ./lightning_logs/all_data/version06/checkpoints exists and is not empty.\n",
      "\n",
      "  | Name                  | Type              | Params\n",
      "------------------------------------------------------------\n",
      "0 | conv1                 | Conv2d            | 80    \n",
      "1 | batchnorm1            | BatchNorm2d       | 16    \n",
      "2 | relu                  | ReLU              | 0     \n",
      "3 | res_blocks            | Sequential        | 306 K \n",
      "4 | avgpool               | AdaptiveAvgPool2d | 0     \n",
      "5 | convout               | Conv2d            | 1.2 K \n",
      "6 | softmax               | Softmax           | 0     \n",
      "7 | cross_entropy_loss_fn | CrossEntropyLoss  | 0     \n",
      "------------------------------------------------------------\n",
      "307 K     Trainable params\n",
      "0         Non-trainable params\n",
      "307 K     Total params\n",
      "1.230     Total estimated model params size (MB)\n"
     ]
    },
    {
     "name": "stdout",
     "output_type": "stream",
     "text": [
      "Sanity Checking: |          | 0/? [00:00<?, ?it/s]"
     ]
    },
    {
     "name": "stderr",
     "output_type": "stream",
     "text": [
      "/Users/kraftb/miniforge3/envs/torch_insect/lib/python3.11/site-packages/lightning/pytorch/trainer/connectors/data_connector.py:441: The 'val_dataloader' does not have many workers which may be a bottleneck. Consider increasing the value of the `num_workers` argument` to `num_workers=11` in the `DataLoader` to improve performance.\n"
     ]
    },
    {
     "name": "stdout",
     "output_type": "stream",
     "text": [
      "                                                                           "
     ]
    },
    {
     "name": "stderr",
     "output_type": "stream",
     "text": [
      "/Users/kraftb/miniforge3/envs/torch_insect/lib/python3.11/site-packages/lightning/pytorch/trainer/connectors/data_connector.py:441: The 'train_dataloader' does not have many workers which may be a bottleneck. Consider increasing the value of the `num_workers` argument` to `num_workers=11` in the `DataLoader` to improve performance.\n",
      "/Users/kraftb/miniforge3/envs/torch_insect/lib/python3.11/site-packages/lightning/pytorch/loops/fit_loop.py:298: The number of training batches (10) is smaller than the logging interval Trainer(log_every_n_steps=20). Set a lower value for log_every_n_steps if you want to see logs for the training epoch.\n"
     ]
    },
    {
     "name": "stdout",
     "output_type": "stream",
     "text": [
      "Epoch 3:  10%|█         | 1/10 [00:00<00:06,  1.46it/s, v_num=on06] "
     ]
    },
    {
     "name": "stderr",
     "output_type": "stream",
     "text": [
      "/Users/kraftb/miniforge3/envs/torch_insect/lib/python3.11/site-packages/lightning/pytorch/trainer/call.py:54: Detected KeyboardInterrupt, attempting graceful shutdown...\n"
     ]
    }
   ],
   "source": [
    "trainer.fit(\n",
    "    resnet,\n",
    "    train_dataloaders=datamodule.train_dataloader(),\n",
    "    val_dataloaders=datamodule.val_dataloader()\n",
    ")\n",
    "\n",
    "# trainer.test(ckpt_path='best', dataloaders=datamodule.test_dataloader())"
   ]
  },
  {
   "cell_type": "code",
   "execution_count": 7,
   "metadata": {},
   "outputs": [
    {
     "name": "stderr",
     "output_type": "stream",
     "text": [
      "Restoring states from the checkpoint path at ./lightning_logs/all_data/version06/checkpoints/best-v3.ckpt\n",
      "Loaded model weights from the checkpoint at ./lightning_logs/all_data/version06/checkpoints/best-v3.ckpt\n",
      "/Users/kraftb/miniforge3/envs/torch_insect/lib/python3.11/site-packages/lightning/pytorch/trainer/connectors/data_connector.py:441: The 'test_dataloader' does not have many workers which may be a bottleneck. Consider increasing the value of the `num_workers` argument` to `num_workers=11` in the `DataLoader` to improve performance.\n"
     ]
    },
    {
     "name": "stdout",
     "output_type": "stream",
     "text": [
      "Testing DataLoader 0: 100%|██████████| 8/8 [00:38<00:00,  0.21it/s]\n",
      "────────────────────────────────────────────────────────────────────────────────────────────────────────────────────────\n",
      "       Test metric             DataLoader 0\n",
      "────────────────────────────────────────────────────────────────────────────────────────────────────────────────────────\n",
      "        test_acc            0.06756756454706192\n",
      "        test_loss           0.6842144131660461\n",
      "────────────────────────────────────────────────────────────────────────────────────────────────────────────────────────\n"
     ]
    },
    {
     "data": {
      "text/plain": [
       "[{'test_loss': 0.6842144131660461, 'test_acc': 0.06756756454706192}]"
      ]
     },
     "execution_count": 7,
     "metadata": {},
     "output_type": "execute_result"
    }
   ],
   "source": [
    "trainer.test(ckpt_path='best', dataloaders=datamodule.test_dataloader())"
   ]
  },
  {
   "cell_type": "markdown",
   "metadata": {},
   "source": [
    "1) Dataset gibt nun ein index zurück. Das nutzten wir später, um prediction x mit dem CSV zu verknuepfen.\n",
    "2) Im predict_step brauchen wir nun die predictions und den index.\n",
    "3) `trainer.predict()` iteriert den prediction loader und gibt eine liste von predictions zurück.\n",
    "4) Nun können wir im dataset CSV eine neue Spalte machen, und die prediction jeweils zum richtigen index schreiben."
   ]
  },
  {
   "cell_type": "code",
   "execution_count": 11,
   "metadata": {},
   "outputs": [
    {
     "name": "stderr",
     "output_type": "stream",
     "text": [
      "/Users/kraftb/miniforge3/envs/torch_insect/lib/python3.11/site-packages/lightning/pytorch/trainer/connectors/data_connector.py:441: The 'predict_dataloader' does not have many workers which may be a bottleneck. Consider increasing the value of the `num_workers` argument` to `num_workers=11` in the `DataLoader` to improve performance.\n"
     ]
    },
    {
     "name": "stdout",
     "output_type": "stream",
     "text": [
      "Predicting DataLoader 0: 100%|██████████| 143/143 [00:42<00:00,  3.33it/s]\n"
     ]
    }
   ],
   "source": [
    "trainer.predict(resnet, datamodule.predict_dataloader(), return_predictions=False)"
   ]
  },
  {
   "cell_type": "code",
   "execution_count": null,
   "metadata": {},
   "outputs": [],
   "source": []
  }
 ],
 "metadata": {
  "kernelspec": {
   "display_name": "torch_cuda",
   "language": "python",
   "name": "python3"
  },
  "language_info": {
   "codemirror_mode": {
    "name": "ipython",
    "version": 3
   },
   "file_extension": ".py",
   "mimetype": "text/x-python",
   "name": "python",
   "nbconvert_exporter": "python",
   "pygments_lexer": "ipython3",
   "version": "3.11.9"
  }
 },
 "nbformat": 4,
 "nbformat_minor": 2
}
