{
 "cells": [
  {
   "cell_type": "code",
   "execution_count": 1,
   "metadata": {},
   "outputs": [],
   "source": [
    "import torch\n",
    "from lightning import Trainer\n",
    "from dataloader import InsectDatamodule\n",
    "from model_20 import ResNet\n",
    "from lightning.pytorch.callbacks import EarlyStopping, ModelCheckpoint\n",
    "from pytorch_lightning import LightningModule\n",
    "from pytorch_lightning.loggers import TensorBoardLogger\n",
    "import os\n",
    "import yaml"
   ]
  },
  {
   "cell_type": "code",
   "execution_count": 3,
   "metadata": {},
   "outputs": [
    {
     "name": "stderr",
     "output_type": "stream",
     "text": [
      "GPU available: True (cuda), used: True\n",
      "TPU available: False, using: 0 TPU cores\n",
      "IPU available: False, using: 0 IPUs\n",
      "HPU available: False, using: 0 HPUs\n"
     ]
    }
   ],
   "source": [
    "# initialize the datamodule and the model\n",
    "\n",
    "train_new_model = True\n",
    "\n",
    "# log directory\n",
    "save_dir='./lightning_logs/'\n",
    "sub_dir='all_data'\n",
    "version='version06'\n",
    "\n",
    "# select Dataset\n",
    "csv_paths = ['../data/Cicadidae.csv', '../data/Orthoptera.csv']\n",
    "# csv_paths = ['../data/Orthoptera.csv']\n",
    "\n",
    "# parameters\n",
    "\n",
    "batch_size = 10\n",
    "num_workers = 0\n",
    "\n",
    "n_fft = 1024\n",
    "n_mels = None\n",
    "top_db = None\n",
    "\n",
    "patience = 30\n",
    "\n",
    "in_channels=1\n",
    "base_channels=8\n",
    "kernel_size=3\n",
    "n_max_pool=3\n",
    "n_res_blocks=4\n",
    "learning_rate=0.001\n",
    "\n",
    "log_every_n_steps=20\n",
    "\n",
    "if train_new_model:\n",
    "    # create log directory\n",
    "    log_dir = f'{save_dir}/{sub_dir}/{version}'\n",
    "    if os.path.exists(log_dir):\n",
    "        raise FileExistsError(f'{log_dir} already exists. Please change the version.')\n",
    "    else:\n",
    "        os.makedirs(log_dir)\n",
    "\n",
    "    parameters = {\n",
    "        'csv_paths': csv_paths,\n",
    "        'batch_size': batch_size,\n",
    "        'num_workers': num_workers,\n",
    "        'n_fft': n_fft,\n",
    "        'n_mels': n_mels,\n",
    "        'top_db': top_db,\n",
    "        'patience': patience,\n",
    "        'in_channels': in_channels,\n",
    "        'base_channels': base_channels,\n",
    "        'kernel_size': kernel_size,\n",
    "        'n_max_pool': n_max_pool,\n",
    "        'n_res_blocks': n_res_blocks,\n",
    "        'learning_rate': learning_rate,\n",
    "        'log_every_n_steps': log_every_n_steps\n",
    "    }\n",
    "\n",
    "    # Write parameters to a YAML file\n",
    "    with open(f'{log_dir}/all_parameters.yaml', 'w') as file:\n",
    "        yaml.dump(parameters, file)\n",
    "\n",
    "datamodule = InsectDatamodule(\n",
    "    csv_paths = csv_paths,\n",
    "    batch_size = batch_size,\n",
    "    num_workers = num_workers,\n",
    "    n_fft = n_fft,\n",
    "    n_mels = n_mels,\n",
    "    top_db = top_db)\n",
    "\n",
    "resnet = ResNet(\n",
    "    in_channels=in_channels,\n",
    "    base_channels=base_channels,\n",
    "    kernel_size=kernel_size,\n",
    "    n_max_pool=n_max_pool,\n",
    "    n_res_blocks=n_res_blocks,\n",
    "    num_classes=datamodule.num_classes,\n",
    "    learning_rate=learning_rate,\n",
    "    class_weights=datamodule.class_weights)\n",
    "\n",
    "logger = TensorBoardLogger(\n",
    "    save_dir=save_dir,\n",
    "    name=sub_dir,\n",
    "    version=version,  # You can customize this\n",
    ")\n",
    "\n",
    "trainer = Trainer(\n",
    "    logger=logger,\n",
    "    log_every_n_steps=log_every_n_steps,\n",
    "    callbacks=[\n",
    "        EarlyStopping(monitor='val_loss', patience=patience),\n",
    "        ModelCheckpoint(monitor='val_loss', save_top_k=1, mode='min', filename='best'),\n",
    "    ]\n",
    ")"
   ]
  },
  {
   "cell_type": "code",
   "execution_count": 5,
   "metadata": {},
   "outputs": [
    {
     "name": "stderr",
     "output_type": "stream",
     "text": [
      "c:\\Users\\kraft\\.conda\\envs\\torch_cuda\\Lib\\site-packages\\lightning\\pytorch\\loops\\utilities.py:73: `max_epochs` was not set. Setting it to 1000 epochs. To train without an epoch limit, set `max_epochs=-1`.\n",
      "LOCAL_RANK: 0 - CUDA_VISIBLE_DEVICES: [0]\n",
      "\n",
      "  | Name                  | Type              | Params\n",
      "------------------------------------------------------------\n",
      "0 | conv1                 | Conv2d            | 80    \n",
      "1 | batchnorm1            | BatchNorm2d       | 16    \n",
      "2 | relu                  | ReLU              | 0     \n",
      "3 | res_blocks            | Sequential        | 306 K \n",
      "4 | avgpool               | AdaptiveAvgPool2d | 0     \n",
      "5 | convout               | Conv2d            | 4.1 K \n",
      "6 | softmax               | Softmax           | 0     \n",
      "7 | cross_entropy_loss_fn | CrossEntropyLoss  | 0     \n",
      "------------------------------------------------------------\n",
      "310 K     Trainable params\n",
      "0         Non-trainable params\n",
      "310 K     Total params\n",
      "1.242     Total estimated model params size (MB)\n"
     ]
    },
    {
     "name": "stdout",
     "output_type": "stream",
     "text": [
      "Sanity Checking: |          | 0/? [00:00<?, ?it/s]"
     ]
    },
    {
     "name": "stderr",
     "output_type": "stream",
     "text": [
      "c:\\Users\\kraft\\.conda\\envs\\torch_cuda\\Lib\\site-packages\\lightning\\pytorch\\trainer\\connectors\\data_connector.py:441: The 'val_dataloader' does not have many workers which may be a bottleneck. Consider increasing the value of the `num_workers` argument` to `num_workers=11` in the `DataLoader` to improve performance.\n"
     ]
    },
    {
     "name": "stdout",
     "output_type": "stream",
     "text": [
      "                                                                           "
     ]
    },
    {
     "name": "stderr",
     "output_type": "stream",
     "text": [
      "c:\\Users\\kraft\\.conda\\envs\\torch_cuda\\Lib\\site-packages\\lightning\\pytorch\\trainer\\connectors\\data_connector.py:441: The 'train_dataloader' does not have many workers which may be a bottleneck. Consider increasing the value of the `num_workers` argument` to `num_workers=11` in the `DataLoader` to improve performance.\n"
     ]
    },
    {
     "name": "stdout",
     "output_type": "stream",
     "text": [
      "Epoch 1:  29%|██▊       | 6/21 [00:07<00:19,  0.79it/s, v_num=on06] "
     ]
    },
    {
     "name": "stderr",
     "output_type": "stream",
     "text": [
      "c:\\Users\\kraft\\.conda\\envs\\torch_cuda\\Lib\\site-packages\\lightning\\pytorch\\trainer\\call.py:54: Detected KeyboardInterrupt, attempting graceful shutdown...\n",
      "Restoring states from the checkpoint path at ./lightning_logs/all_data\\version06\\checkpoints\\best.ckpt\n",
      "LOCAL_RANK: 0 - CUDA_VISIBLE_DEVICES: [0]\n",
      "Loaded model weights from the checkpoint at ./lightning_logs/all_data\\version06\\checkpoints\\best.ckpt\n",
      "c:\\Users\\kraft\\.conda\\envs\\torch_cuda\\Lib\\site-packages\\lightning\\pytorch\\trainer\\connectors\\data_connector.py:441: The 'test_dataloader' does not have many workers which may be a bottleneck. Consider increasing the value of the `num_workers` argument` to `num_workers=11` in the `DataLoader` to improve performance.\n"
     ]
    },
    {
     "name": "stdout",
     "output_type": "stream",
     "text": [
      "Testing DataLoader 0:   0%|          | 0/8 [00:00<?, ?it/s]"
     ]
    }
   ],
   "source": [
    "trainer.fit(\n",
    "    resnet,\n",
    "    train_dataloaders=datamodule.train_dataloader(),\n",
    "    val_dataloaders=datamodule.val_dataloader()\n",
    ")\n",
    "\n",
    "trainer.test(ckpt_path='best', dataloaders=datamodule.test_dataloader())"
   ]
  },
  {
   "cell_type": "code",
   "execution_count": null,
   "metadata": {},
   "outputs": [],
   "source": [
    "trainer.test(ckpt_path='best', dataloaders=datamodule.test_dataloader())"
   ]
  },
  {
   "cell_type": "code",
   "execution_count": 2,
   "metadata": {},
   "outputs": [],
   "source": [
    "csv_paths = ['../data/Cicadidae.csv', '../data/Orthoptera.csv']\n",
    "\n",
    "batch_size = 10\n",
    "num_workers = 0\n",
    "\n",
    "n_fft = 1024\n",
    "n_mels = None\n",
    "top_db = None\n",
    "\n",
    "\n",
    "datamodule = InsectDatamodule(\n",
    "    csv_paths = csv_paths,\n",
    "    batch_size = batch_size,\n",
    "    num_workers = num_workers,\n",
    "    n_fft = n_fft,\n",
    "    n_mels = n_mels,\n",
    "    top_db = top_db)\n",
    "\n",
    "ckpt_path = './lightning_logs/all_data/version06/checkpoints/best.ckpt'\n",
    "\n",
    "resnet = ResNet.load_from_checkpoint(checkpoint_path=ckpt_path)\n",
    "\n",
    "# resnet = ResNet.load_from_checkpoint('./lightning_logs/all_data/version04/checkpoints/best.ckpt', in_channels=1)"
   ]
  }
 ],
 "metadata": {
  "kernelspec": {
   "display_name": "torch_cuda",
   "language": "python",
   "name": "python3"
  },
  "language_info": {
   "codemirror_mode": {
    "name": "ipython",
    "version": 3
   },
   "file_extension": ".py",
   "mimetype": "text/x-python",
   "name": "python",
   "nbconvert_exporter": "python",
   "pygments_lexer": "ipython3",
   "version": "3.11.8"
  }
 },
 "nbformat": 4,
 "nbformat_minor": 2
}
