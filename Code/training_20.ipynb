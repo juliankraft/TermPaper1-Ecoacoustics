{
 "cells": [
  {
   "cell_type": "code",
   "execution_count": 1,
   "metadata": {},
   "outputs": [],
   "source": [
    "import torch\n",
    "from lightning import Trainer\n",
    "from dataloader import InsectDatamodule\n",
    "from model_20 import ResNet\n",
    "from lightning.pytorch.callbacks import EarlyStopping, ModelCheckpoint\n",
    "from pytorch_lightning import LightningModule\n",
    "from pytorch_lightning.loggers import TensorBoardLogger\n",
    "import os\n",
    "import yaml"
   ]
  },
  {
   "cell_type": "code",
   "execution_count": null,
   "metadata": {},
   "outputs": [],
   "source": [
    "# initialize the datamodule and the model\n",
    "\n",
    "train_new_model = True\n",
    "\n",
    "# log directory\n",
    "save_dir='./lightning_logs/'\n",
    "sub_dir='all_data'\n",
    "version='version05'\n",
    "\n",
    "# select Dataset\n",
    "csv_paths = ['../data/Cicadidae.csv', '../data/Orthoptera.csv']\n",
    "# csv_paths = ['../data/Orthoptera.csv']\n",
    "\n",
    "# parameters\n",
    "\n",
    "batch_size = 10\n",
    "num_workers = 0\n",
    "\n",
    "n_fft = 1024\n",
    "n_mels = None\n",
    "top_db = None\n",
    "\n",
    "patience = 30\n",
    "\n",
    "in_channels=1\n",
    "base_channels=8\n",
    "kernel_size=3\n",
    "n_max_pool=3\n",
    "n_res_blocks=4\n",
    "learning_rate=0.001\n",
    "\n",
    "log_every_n_steps=20\n",
    "\n",
    "if train_new_model:\n",
    "    # create log directory\n",
    "    log_dir = f'{save_dir}/{sub_dir}/{version}'\n",
    "    if os.path.exists(log_dir):\n",
    "        raise FileExistsError(f'{log_dir} already exists. Please change the version.')\n",
    "    else:\n",
    "        os.makedirs(log_dir)\n",
    "\n",
    "    parameters = {\n",
    "        'csv_paths': csv_paths,\n",
    "        'batch_size': batch_size,\n",
    "        'num_workers': num_workers,\n",
    "        'n_fft': n_fft,\n",
    "        'n_mels': n_mels,\n",
    "        'top_db': top_db,\n",
    "        'patience': patience,\n",
    "        'in_channels': in_channels,\n",
    "        'base_channels': base_channels,\n",
    "        'kernel_size': kernel_size,\n",
    "        'n_max_pool': n_max_pool,\n",
    "        'n_res_blocks': n_res_blocks,\n",
    "        'learning_rate': learning_rate,\n",
    "        'log_every_n_steps': log_every_n_steps\n",
    "    }\n",
    "\n",
    "    # Write parameters to a YAML file\n",
    "    with open(f'{log_dir}/all_parameters.yaml', 'w') as file:\n",
    "        yaml.dump(parameters, file)\n",
    "\n",
    "datamodule = InsectDatamodule(\n",
    "    csv_paths = csv_paths,\n",
    "    batch_size = batch_size,\n",
    "    num_workers = num_workers,\n",
    "    n_fft = n_fft,\n",
    "    n_mels = n_mels,\n",
    "    top_db = top_db)\n",
    "\n",
    "resnet = ResNet(\n",
    "    in_channels=in_channels,\n",
    "    base_channels=base_channels,\n",
    "    kernel_size=kernel_size,\n",
    "    n_max_pool=n_max_pool,\n",
    "    n_res_blocks=n_res_blocks,\n",
    "    num_classes=datamodule.num_classes,\n",
    "    learning_rate=learning_rate,\n",
    "    class_weights=datamodule.class_weights)\n",
    "\n",
    "logger = TensorBoardLogger(\n",
    "    save_dir=save_dir,\n",
    "    name=sub_dir,\n",
    "    version=version,  # You can customize this\n",
    ")\n",
    "\n",
    "trainer = Trainer(\n",
    "    logger=logger,\n",
    "    log_every_n_steps=log_every_n_steps,\n",
    "    callbacks=[\n",
    "        EarlyStopping(monitor='val_loss', patience=patience),\n",
    "        ModelCheckpoint(monitor='val_loss', save_top_k=1, mode='min', filename='best'),\n",
    "    ]\n",
    ")"
   ]
  },
  {
   "cell_type": "code",
   "execution_count": null,
   "metadata": {},
   "outputs": [],
   "source": [
    "trainer.fit(\n",
    "    resnet,\n",
    "    train_dataloaders=datamodule.train_dataloader(),\n",
    "    val_dataloaders=datamodule.val_dataloader()\n",
    ")\n",
    "\n",
    "trainer.test(ckpt_path='best', dataloaders=datamodule.test_dataloader())"
   ]
  },
  {
   "cell_type": "code",
   "execution_count": 11,
   "metadata": {},
   "outputs": [
    {
     "ename": "TypeError",
     "evalue": "`Trainer.test()` requires a `LightningModule` when it hasn't been passed in a previous run",
     "output_type": "error",
     "traceback": [
      "\u001b[1;31m---------------------------------------------------------------------------\u001b[0m",
      "\u001b[1;31mTypeError\u001b[0m                                 Traceback (most recent call last)",
      "Cell \u001b[1;32mIn[11], line 1\u001b[0m\n\u001b[1;32m----> 1\u001b[0m \u001b[43mtrainer\u001b[49m\u001b[38;5;241;43m.\u001b[39;49m\u001b[43mtest\u001b[49m\u001b[43m(\u001b[49m\u001b[43mckpt_path\u001b[49m\u001b[38;5;241;43m=\u001b[39;49m\u001b[38;5;124;43m'\u001b[39;49m\u001b[38;5;124;43mbest\u001b[39;49m\u001b[38;5;124;43m'\u001b[39;49m\u001b[43m,\u001b[49m\u001b[43m \u001b[49m\u001b[43mdataloaders\u001b[49m\u001b[38;5;241;43m=\u001b[39;49m\u001b[43mdatamodule\u001b[49m\u001b[38;5;241;43m.\u001b[39;49m\u001b[43mtest_dataloader\u001b[49m\u001b[43m(\u001b[49m\u001b[43m)\u001b[49m\u001b[43m)\u001b[49m\n",
      "File \u001b[1;32mc:\\Users\\kraft\\.conda\\envs\\torch_cuda\\Lib\\site-packages\\lightning\\pytorch\\trainer\\trainer.py:744\u001b[0m, in \u001b[0;36mTrainer.test\u001b[1;34m(self, model, dataloaders, ckpt_path, verbose, datamodule)\u001b[0m\n\u001b[0;32m    741\u001b[0m \u001b[38;5;28;01mif\u001b[39;00m model \u001b[38;5;129;01mis\u001b[39;00m \u001b[38;5;28;01mNone\u001b[39;00m:\n\u001b[0;32m    742\u001b[0m     \u001b[38;5;66;03m# do we still have a reference from a previous call?\u001b[39;00m\n\u001b[0;32m    743\u001b[0m     \u001b[38;5;28;01mif\u001b[39;00m \u001b[38;5;28mself\u001b[39m\u001b[38;5;241m.\u001b[39mlightning_module \u001b[38;5;129;01mis\u001b[39;00m \u001b[38;5;28;01mNone\u001b[39;00m:\n\u001b[1;32m--> 744\u001b[0m         \u001b[38;5;28;01mraise\u001b[39;00m \u001b[38;5;167;01mTypeError\u001b[39;00m(\n\u001b[0;32m    745\u001b[0m             \u001b[38;5;124m\"\u001b[39m\u001b[38;5;124m`Trainer.test()` requires a `LightningModule` when it hasn\u001b[39m\u001b[38;5;124m'\u001b[39m\u001b[38;5;124mt been passed in a previous run\u001b[39m\u001b[38;5;124m\"\u001b[39m\n\u001b[0;32m    746\u001b[0m         )\n\u001b[0;32m    747\u001b[0m \u001b[38;5;28;01melse\u001b[39;00m:\n\u001b[0;32m    748\u001b[0m     model \u001b[38;5;241m=\u001b[39m _maybe_unwrap_optimized(model)\n",
      "\u001b[1;31mTypeError\u001b[0m: `Trainer.test()` requires a `LightningModule` when it hasn't been passed in a previous run"
     ]
    }
   ],
   "source": [
    "trainer.test(ckpt_path='best', dataloaders=datamodule.test_dataloader())"
   ]
  },
  {
   "cell_type": "code",
   "execution_count": 4,
   "metadata": {},
   "outputs": [
    {
     "name": "stderr",
     "output_type": "stream",
     "text": [
      "c:\\Users\\kraft\\OneDrive - ZHAW\\MyFiles\\001_Studium\\001 Semester\\04 FS24\\07_SemesterArbeitI\\SA1_JK\\code\\model_20.py:76: UserWarning: To copy construct from a tensor, it is recommended to use sourceTensor.clone().detach() or sourceTensor.clone().detach().requires_grad_(True), rather than torch.tensor(sourceTensor).\n",
      "  class_weights = torch.tensor(class_weights, dtype=torch.float32)\n"
     ]
    }
   ],
   "source": [
    "csv_paths = ['../data/Cicadidae.csv', '../data/Orthoptera.csv']\n",
    "\n",
    "batch_size = 10\n",
    "num_workers = 0\n",
    "\n",
    "n_fft = 1024\n",
    "n_mels = None\n",
    "top_db = None\n",
    "\n",
    "\n",
    "datamodule = InsectDatamodule(\n",
    "    csv_paths = csv_paths,\n",
    "    batch_size = batch_size,\n",
    "    num_workers = num_workers,\n",
    "    n_fft = n_fft,\n",
    "    n_mels = n_mels,\n",
    "    top_db = top_db)\n",
    "\n",
    "ckpt_path = './lightning_logs/all_data/version05/checkpoints/best.ckpt'\n",
    "\n",
    "# resnet = ResNet.load_from_checkpoint(checkpoint_path=ckpt_path)\n",
    "\n",
    "resnet = ResNet.load_from_checkpoint('./lightning_logs/all_data/version04/checkpoints/best.ckpt', in_channels=1)"
   ]
  }
 ],
 "metadata": {
  "kernelspec": {
   "display_name": "torch_cuda",
   "language": "python",
   "name": "python3"
  },
  "language_info": {
   "codemirror_mode": {
    "name": "ipython",
    "version": 3
   },
   "file_extension": ".py",
   "mimetype": "text/x-python",
   "name": "python",
   "nbconvert_exporter": "python",
   "pygments_lexer": "ipython3",
   "version": "3.11.8"
  }
 },
 "nbformat": 4,
 "nbformat_minor": 2
}
