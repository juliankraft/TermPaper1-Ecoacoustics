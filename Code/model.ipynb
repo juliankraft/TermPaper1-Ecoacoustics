{
 "cells": [
  {
   "cell_type": "code",
   "execution_count": 15,
   "metadata": {},
   "outputs": [],
   "source": [
    "import torch\n",
    "from tqdm import tqdm\n",
    "import matplotlib.pyplot as plt \n",
    "from dataloader import InsectDatamodule\n",
    "import pickle\n",
    "from sklearn.metrics import confusion_matrix\n",
    "import numpy as np\n"
   ]
  },
  {
   "cell_type": "code",
   "execution_count": 2,
   "metadata": {},
   "outputs": [],
   "source": [
    "class ResBlock(torch.nn.Module):\n",
    "    def __init__(self, in_channels: int, out_channels: int, kernel_size: int, n_max_pool: int, **kwargs):\n",
    "        super().__init__()\n",
    "        padding = kernel_size // 2\n",
    "\n",
    "        self.conv1 = torch.nn.Conv2d(in_channels=in_channels, out_channels=out_channels, kernel_size=kernel_size, padding='same', **kwargs)\n",
    "        self.batchnorm1 = torch.nn.BatchNorm2d(num_features=out_channels)\n",
    "        self.relu = torch.nn.ReLU()\n",
    "        self.conv2 = torch.nn.Conv2d(in_channels=out_channels, out_channels=out_channels, kernel_size=kernel_size, padding='same', **kwargs)\n",
    "        self.batchnorm2 = torch.nn.BatchNorm2d(num_features=out_channels)\n",
    "        self.maxpool = torch.nn.MaxPool2d(kernel_size=n_max_pool, stride=n_max_pool)\n",
    "\n",
    "    def forward(self, x):\n",
    "        out = self.conv1(x)\n",
    "        out = self.batchnorm1(out)\n",
    "        out = self.relu(out)\n",
    "        out = self.conv2(out)\n",
    "        out = self.batchnorm2(out)\n",
    "        out = self.relu(out) + x\n",
    "        return self.maxpool(out)\n",
    "\n",
    "\n",
    "class ResNet(torch.nn.Module):\n",
    "    def __init__(self, in_channels: int, out_channels: int, kernel_size: int, n_max_pool: int, n_res_blocks: int, num_classes: int, **kwargs):\n",
    "        super().__init__()\n",
    "\n",
    "        self.conv1 = torch.nn.Conv2d(in_channels=in_channels, out_channels=out_channels, kernel_size=kernel_size, padding='same', **kwargs)\n",
    "        self.batchnorm1 = torch.nn.BatchNorm2d(num_features=out_channels)\n",
    "        self.relu = torch.nn.ReLU()\n",
    "        self.res_blocks = torch.nn.Sequential(\n",
    "            *[ResBlock(\n",
    "                in_channels=out_channels, out_channels=out_channels, kernel_size=kernel_size, n_max_pool=n_max_pool, **kwargs) for _ in range(n_res_blocks)]\n",
    "        )\n",
    "        self.avgpool = torch.nn.AdaptiveAvgPool2d((1, 1))\n",
    "        self.convout = torch.nn.Conv2d(in_channels=out_channels, out_channels=num_classes, kernel_size=1, **kwargs)\n",
    "\n",
    "        self.softmax = torch.nn.Softmax(dim=1)\n",
    "\n",
    "    def forward(self, x):\n",
    "        # x: (N, C=1, H, W)\n",
    "        x = x.unsqueeze(1)\n",
    "\n",
    "        # Run input through a first convolutional layer.\n",
    "        out = self.conv1(x)\n",
    "        out = self.batchnorm1(out)\n",
    "        out = self.relu(out)\n",
    "\n",
    "        # Run input through the residual blocks.\n",
    "        out = self.res_blocks(out)\n",
    "\n",
    "        # Run input through the average pooling layer. The output is a tensor of shape (N, C, 1, 1).\n",
    "        out = self.avgpool(out)\n",
    "\n",
    "        # Run input through the output convolutional layer. This is the same as a fully connected layer but it works with 4D tensors.\n",
    "        out = self.convout(out)\n",
    "\n",
    "        # Flatten the output tensor to have shape (N, C).\n",
    "        out  = out.flatten(1)\n",
    "\n",
    "        out = self.softmax(out)\n",
    "\n",
    "        return out\n"
   ]
  },
  {
   "cell_type": "code",
   "execution_count": 3,
   "metadata": {},
   "outputs": [],
   "source": [
    "datamodule = InsectDatamodule(csv_paths=['../data/Cicadidae.csv', '../data/Orthoptera.csv'], batch_size=10, use_mel=False, num_workers=0)"
   ]
  },
  {
   "cell_type": "code",
   "execution_count": 17,
   "metadata": {},
   "outputs": [
    {
     "name": "stderr",
     "output_type": "stream",
     "text": [
      "100%|█████████████████████████████████████████████████████████████████████████████| 1000/1000 [1:16:35<00:00,  4.60s/it]\n"
     ]
    }
   ],
   "source": [
    "resnet = ResNet(in_channels=1, out_channels=10, kernel_size=3, n_max_pool=3, n_res_blocks=3, num_classes=datamodule.num_classes).cuda()\n",
    "optimizer = torch.optim.AdamW(resnet.parameters(), lr=0.001, weight_decay=0.0)\n",
    "cross_entropy = torch.nn.CrossEntropyLoss()\n",
    "\n",
    "train_losses = []\n",
    "train_losses_epoched = []\n",
    "\n",
    "valid_losses = []\n",
    "valid_losses_epoched = []\n",
    "\n",
    "\n",
    "for epoch in tqdm(range(1000), ncols=120):\n",
    "    loss_sum = 0.\n",
    "    num_losses = 0\n",
    "    for x, y in datamodule.train_dataloader():\n",
    "        x = x.cuda()\n",
    "        y = y.cuda()\n",
    "        optimizer.zero_grad()\n",
    "        y_hat = resnet(x)\n",
    "        loss = cross_entropy(y_hat, y.float())\n",
    "        loss.backward()\n",
    "        optimizer.step()\n",
    "        loss_sum += loss.item()\n",
    "        num_losses += 1\n",
    "\n",
    "        train_losses.append(loss.item())\n",
    "    \n",
    "    train_losses_epoched.append(loss_sum / num_losses)\n",
    "\n",
    "    with torch.no_grad():\n",
    "        loss_sum = 0.\n",
    "        num_losses = 0\n",
    "        for x, y in datamodule.val_dataloader():\n",
    "            x = x.cuda()\n",
    "            y = y.cuda()\n",
    "            y_hat = resnet(x)\n",
    "            loss = cross_entropy(y_hat, y.float())\n",
    "            loss_sum += loss.item()\n",
    "            num_losses += 1\n",
    "\n",
    "            valid_losses.append(loss.item())\n",
    "\n",
    "        valid_losses_epoched.append(loss_sum / num_losses)\n"
   ]
  },
  {
   "cell_type": "code",
   "execution_count": 4,
   "metadata": {},
   "outputs": [
    {
     "ename": "NameError",
     "evalue": "name 'resnet' is not defined",
     "output_type": "error",
     "traceback": [
      "\u001b[1;31m---------------------------------------------------------------------------\u001b[0m",
      "\u001b[1;31mNameError\u001b[0m                                 Traceback (most recent call last)",
      "Cell \u001b[1;32mIn[4], line 1\u001b[0m\n\u001b[1;32m----> 1\u001b[0m torch\u001b[38;5;241m.\u001b[39msave(\u001b[43mresnet\u001b[49m\u001b[38;5;241m.\u001b[39mstate_dict(), \u001b[38;5;124m'\u001b[39m\u001b[38;5;124mmodel_28.4.pth\u001b[39m\u001b[38;5;124m'\u001b[39m)\n",
      "\u001b[1;31mNameError\u001b[0m: name 'resnet' is not defined"
     ]
    }
   ],
   "source": [
    "torch.save(resnet.state_dict(), 'model_28.4.pth')"
   ]
  },
  {
   "cell_type": "code",
   "execution_count": 27,
   "metadata": {},
   "outputs": [
    {
     "data": {
      "text/plain": [
       "<matplotlib.legend.Legend at 0x1c4188a1090>"
      ]
     },
     "execution_count": 27,
     "metadata": {},
     "output_type": "execute_result"
    },
    {
     "data": {
      "image/png": "[encoded data removed]",
      "text/plain": [
       "<Figure size 640x480 with 1 Axes>"
      ]
     },
     "metadata": {},
     "output_type": "display_data"
    }
   ],
   "source": [
    "plt.plot(valid_losses_epoched, label='Validation Losses')\n",
    "plt.plot(train_losses_epoched, label='Training Losses')\n",
    "plt.legend()"
   ]
  },
  {
   "cell_type": "code",
   "execution_count": 5,
   "metadata": {},
   "outputs": [
    {
     "data": {
      "text/plain": [
       "<All keys matched successfully>"
      ]
     },
     "execution_count": 5,
     "metadata": {},
     "output_type": "execute_result"
    }
   ],
   "source": [
    "# Initialize the model\n",
    "resnet = ResNet(in_channels=1, out_channels=10, kernel_size=3, n_max_pool=3, n_res_blocks=3, num_classes=datamodule.num_classes).cuda()\n",
    "\n",
    "# Load the state dict\n",
    "state_dict = torch.load('model_28.4.pth')\n",
    "\n",
    "# Update the model's parameters\n",
    "resnet.load_state_dict(state_dict)"
   ]
  },
  {
   "cell_type": "code",
   "execution_count": 6,
   "metadata": {},
   "outputs": [],
   "source": [
    "resnet.eval()\n",
    "\n",
    "y_true = []\n",
    "y_pred = []\n",
    "\n",
    "with torch.no_grad():\n",
    "    for x, y in datamodule.test_dataloader():\n",
    "        x = x.cuda()\n",
    "        y = y.cuda()\n",
    "        y_hat = resnet(x)\n",
    "        _, predicted = torch.max(y_hat, 1)\n",
    "\n",
    "        y_true.extend(y.cpu().numpy())\n",
    "        y_pred.extend(y_hat.cpu().numpy())\n",
    "        "
   ]
  },
  {
   "cell_type": "code",
   "execution_count": null,
   "metadata": {},
   "outputs": [],
   "source": [
    "\n",
    "# Compute confusion matrix\n",
    "cm = confusion_matrix(y_true, y_pred)\n",
    "\n",
    "print(cm)\n"
   ]
  }
 ],
 "metadata": {
  "kernelspec": {
   "display_name": "torch_cuda",
   "language": "python",
   "name": "python3"
  },
  "language_info": {
   "codemirror_mode": {
    "name": "ipython",
    "version": 3
   },
   "file_extension": ".py",
   "mimetype": "text/x-python",
   "name": "python",
   "nbconvert_exporter": "python",
   "pygments_lexer": "ipython3",
   "version": "3.11.8"
  }
 },
 "nbformat": 4,
 "nbformat_minor": 2
}
